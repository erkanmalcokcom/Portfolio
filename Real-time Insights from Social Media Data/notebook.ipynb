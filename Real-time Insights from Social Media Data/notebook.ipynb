{
 "metadata": {
  "kernelspec": {
   "language": "python",
   "display_name": "Python 3",
   "name": "python3"
  },
  "language_info": {
   "name": "python",
   "version": "3.7.12",
   "mimetype": "text/x-python",
   "codemirror_mode": {
    "name": "ipython",
    "version": 3
   },
   "pygments_lexer": "ipython3",
   "nbconvert_exporter": "python",
   "file_extension": ".py"
  }
 },
 "nbformat_minor": 4,
 "nbformat": 4,
 "cells": [
  {
   "cell_type": "markdown",
   "source": [
    "## Big waves of thoughts globally or locally in real-time.\n",
    "\n",
    "Twitter-storms are available for analysis in near real-time. This means we can learn about the big waves of thoughts and moods around the world as they arise.\n",
    "As any place filled with riches, Twitter has security guards blocking us from laying our hands on the data right away ⛔️ Some authentication steps (really straightforward) are needed to call their APIs for data collection. Since our goal today is learning to extract insights from data, we have already gotten a green-pass from security ✅ Our data is ready for usage in the datasets folder — we can concentrate on the fun part!"
   ],
   "metadata": {}
  },
  {
   "cell_type": "code",
   "source": [
    "# Loading json module\n",
    "import json \n",
    "\n",
    "# Loading WW_trends and US_trends data\n",
    "WW_trends = json.loads(open('datasets/WWTrends.json').read())\n",
    "US_trends = json.loads(open('datasets/USTrends.json').read())\n",
    "\n",
    "# Inspecting data by printing out WW_trends and US_trends variables\n",
    "print(WW_trends)\n",
    "print(US_trends)"
   ],
   "metadata": {
    "execution": {
     "iopub.status.busy": "2022-02-03T23:56:45.135408Z",
     "iopub.execute_input": "2022-02-03T23:56:45.136181Z",
     "iopub.status.idle": "2022-02-03T23:56:45.149465Z",
     "shell.execute_reply.started": "2022-02-03T23:56:45.136147Z",
     "shell.execute_reply": "2022-02-03T23:56:45.148381Z"
    },
    "trusted": true
   },
   "execution_count": null,
   "outputs": []
  },
  {
   "cell_type": "code",
   "source": [
    "# Pretty-printing the results. First WW and then US trends. \n",
    "\n",
    "print(\"WW trends:\")\n",
    "print (json.dumps(WW_trends, indent=1))\n",
    "\n",
    "print(\"\\n\", \"US trends:\")\n",
    "print (json.dumps(US_trends, indent=1))"
   ],
   "metadata": {
    "execution": {
     "iopub.status.busy": "2022-02-03T23:56:45.151171Z",
     "iopub.execute_input": "2022-02-03T23:56:45.151505Z",
     "iopub.status.idle": "2022-02-03T23:56:45.160192Z",
     "shell.execute_reply.started": "2022-02-03T23:56:45.151472Z",
     "shell.execute_reply": "2022-02-03T23:56:45.15953Z"
    },
    "trusted": true
   },
   "execution_count": null,
   "outputs": []
  },
  {
   "cell_type": "markdown",
   "source": [
    "## 3. Finding common trends\n",
    "\n",
    "From the output, we can observe that:\n",
    "\n",
    "* We have an array of trend objects having: the name of the trending topic, the query parameter that can be used to search for the topic on Twitter-Search, the search URL and the volume of tweets for the last 24 hours, if available. (The trends get updated every 5 mins.)\n",
    "\n",
    "* At query time #BeratKandili, #GoodFriday and #WeLoveTheEarth were trending WW.\n",
    "\n",
    "* \"tweet_volume\" tell us that #WeLoveTheEarth was the most popular among the three.\n",
    "\n",
    "* There are some trends which are unique to the US."
   ],
   "metadata": {}
  },
  {
   "cell_type": "code",
   "source": [
    "# Extracting all the WW trend names from WW_trends\n",
    "world_trends = set([trend['name']                    \n",
    "                    for trend in WW_trends[0]['trends']])\n",
    "\n",
    "# Extracting all the US trend names from US_trends\n",
    "us_trends = set([trend['name'] \n",
    "                     for trend in US_trends[0]['trends']]) \n",
    "\n",
    "# Let's get the intersection of the two sets of trends\n",
    "common_trends = world_trends.intersection(us_trends)\n",
    "\n",
    "# Inspecting the data\n",
    "print(world_trends, \"\\n\")\n",
    "print(us_trends, \"\\n\")\n",
    "print (len(common_trends), \"common trends:\", common_trends)"
   ],
   "metadata": {
    "execution": {
     "iopub.status.busy": "2022-02-03T23:56:45.161431Z",
     "iopub.execute_input": "2022-02-03T23:56:45.162157Z",
     "iopub.status.idle": "2022-02-03T23:56:45.171963Z",
     "shell.execute_reply.started": "2022-02-03T23:56:45.162121Z",
     "shell.execute_reply": "2022-02-03T23:56:45.170872Z"
    },
    "trusted": true
   },
   "execution_count": null,
   "outputs": []
  },
  {
   "cell_type": "markdown",
   "source": [
    "## 4. Exploring the hot trend\n",
    "\n",
    "From the intersection , we can see that, out of the two sets of trends (each of size 50), we have 11 overlapping topics. In particular, there is one common trend that sounds very interesting: #WeLoveTheEarth — so good to see that Twitteratis are unanimously talking about loving Mother Earth! 💚\n",
    "\n",
    "We have found a hot-trend, #WeLoveTheEarth. Now let's see what story it is screaming to tell us! \n",
    "If we query Twitter's search API with this hashtag as query parameter\n",
    "\n",
    "Image Source:Official Music Video Cover: https://welovetheearth.org/video/"
   ],
   "metadata": {}
  },
  {
   "cell_type": "markdown",
   "source": [],
   "metadata": {
    "collapsed": false
   }
  },
  {
   "cell_type": "markdown",
   "source": [],
   "metadata": {
    "collapsed": false
   }
  },
  {
   "cell_type": "code",
   "source": [
    "# Loading the data\n",
    "tweets = json.loads(open('/datasets/WeLoveTheEarth.json').read())\n",
    "\n",
    "# Inspecting some tweets\n",
    "tweets[0:2]"
   ],
   "metadata": {
    "execution": {
     "iopub.status.busy": "2022-02-03T23:56:45.175085Z",
     "iopub.execute_input": "2022-02-03T23:56:45.17543Z",
     "iopub.status.idle": "2022-02-03T23:56:45.473552Z",
     "shell.execute_reply.started": "2022-02-03T23:56:45.175384Z",
     "shell.execute_reply": "2022-02-03T23:56:45.472594Z"
    },
    "trusted": true
   },
   "execution_count": null,
   "outputs": []
  },
  {
   "cell_type": "markdown",
   "source": [
    "## Digging deeper \n",
    "\n",
    "#### Printing the first two tweet items makes us realize that there’s a lot more to a tweet than what we normally think of as a tweet — there is a lot more than just a short text."
   ],
   "metadata": {}
  },
  {
   "cell_type": "code",
   "source": [
    "# Extracting the text of all the tweets from the tweet object\n",
    "texts = [tweet['text'] \n",
    "                 for tweet in tweets ]\n",
    "\n",
    "# Extracting screen names of users tweeting about #WeLoveTheEarth\n",
    "names = [user_mention['screen_name'] \n",
    "                 for tweet in tweets\n",
    "                     for user_mention in tweet['entities']['user_mentions']]\n",
    "\n",
    "# Extracting all the hashtags being used when talking about this topic\n",
    "hashtags = [hashtag['text'] \n",
    "             for tweet in tweets\n",
    "                 for hashtag in tweet['entities']['hashtags']]\n",
    "\n",
    "# Inspecting the first 10 results\n",
    "print (json.dumps(texts[0:10], indent=1),\"\\n\")\n",
    "print (json.dumps(names[0:10], indent=1),\"\\n\")\n",
    "print (json.dumps(hashtags[0:10], indent=1),\"\\n\")"
   ],
   "metadata": {
    "execution": {
     "iopub.status.busy": "2022-02-03T23:56:45.475152Z",
     "iopub.execute_input": "2022-02-03T23:56:45.47607Z",
     "iopub.status.idle": "2022-02-03T23:56:45.489699Z",
     "shell.execute_reply.started": "2022-02-03T23:56:45.47602Z",
     "shell.execute_reply": "2022-02-03T23:56:45.488651Z"
    },
    "trusted": true
   },
   "execution_count": null,
   "outputs": []
  },
  {
   "cell_type": "markdown",
   "source": [
    "## Frequency Analysis\n",
    "\n",
    "We are talking about a song about loving the Earth.\n",
    "\n",
    "* A lot of big artists are the forces behind this Twitter wave, especially Lil Dicky.\n",
    "* Ed Sheeran was some cute koala in the song — \"EdSheeranTheKoala\" hashtag! 🐨\n",
    "* Observing the first 10 items of the interesting fields gave us a sense of the data."
   ],
   "metadata": {}
  },
  {
   "cell_type": "code",
   "source": [
    "# Importing modules\n",
    "from collections import Counter\n",
    "\n",
    "# Counting occcurrences/ getting frequency dist of all names and hashtags\n",
    "for item in [names, hashtags]:\n",
    "    c = Counter(item)    \n",
    "    # Inspecting the 10 most common items in c\n",
    "    print (c.most_common(10), \"\\n\")"
   ],
   "metadata": {
    "execution": {
     "iopub.status.busy": "2022-02-03T23:56:45.49116Z",
     "iopub.execute_input": "2022-02-03T23:56:45.491739Z",
     "iopub.status.idle": "2022-02-03T23:56:45.502502Z",
     "shell.execute_reply.started": "2022-02-03T23:56:45.491664Z",
     "shell.execute_reply": "2022-02-03T23:56:45.501743Z"
    },
    "trusted": true
   },
   "execution_count": null,
   "outputs": []
  },
  {
   "cell_type": "markdown",
   "source": [
    "## Based on the last frequency distributions we can further build-up on our deductions:\n",
    "\n",
    "* We can more safely say that this was a music video about Earth (hashtag 'EarthMusicVideo') by Lil Dicky.\n",
    "* DiCaprio is not a music artist, but he was involved as well (Leo is an environmentalist so not a surprise to see his name pop up here).\n",
    "* We can also say that the video was released on a Friday; very likely on April 19th.\n",
    "\n",
    "We can measure a tweet's popularity by analyzing the retweetcount and favoritecount fields. But let's also extract the number of followers of the tweeter — we have a lot of celebs in the picture, so can we tell if their advocating for #WeLoveTheEarth influenced a significant proportion of their followers?\n",
    "Note: The retweet_count gives us the total number of times the original tweet was retweeted."
   ],
   "metadata": {}
  },
  {
   "cell_type": "code",
   "source": [
    "# Extracting useful information from retweets\n",
    "retweets = [\n",
    "             (tweet['retweet_count'], \n",
    "              tweet['retweeted_status']['favorite_count'],\n",
    "              tweet['retweeted_status']['user']['followers_count'],\n",
    "              tweet['retweeted_status']['user']['screen_name'],\n",
    "              tweet['text']) \n",
    "            \n",
    "            for tweet in tweets \n",
    "                if 'retweeted_status' in tweet\n",
    "           ]"
   ],
   "metadata": {
    "execution": {
     "iopub.status.busy": "2022-02-03T23:56:45.504302Z",
     "iopub.execute_input": "2022-02-03T23:56:45.504874Z",
     "iopub.status.idle": "2022-02-03T23:56:45.516414Z",
     "shell.execute_reply.started": "2022-02-03T23:56:45.504826Z",
     "shell.execute_reply": "2022-02-03T23:56:45.515387Z"
    },
    "trusted": true
   },
   "execution_count": null,
   "outputs": []
  },
  {
   "cell_type": "markdown",
   "source": [
    "8. A table that speaks a 1000 words\n",
    "Let's manipulate the data further and visualize it in a better and richer way — \"looks matter!\""
   ],
   "metadata": {}
  },
  {
   "cell_type": "code",
   "source": [
    "# Importing modules\n",
    "import matplotlib.pyplot as plt\n",
    "import pandas as pd\n",
    "\n",
    "# Visualizing the data in a pretty and insightful format\n",
    "df = pd.DataFrame(\n",
    "    retweets, \n",
    "    columns=['Retweets','Favorites','Followers','ScreenName','Text']).groupby(\n",
    "    ['ScreenName','Text','Followers']).sum().sort_values(by=['Followers'], ascending=False)\n",
    "\n",
    "df.style.background_gradient()"
   ],
   "metadata": {
    "execution": {
     "iopub.status.busy": "2022-02-03T23:56:45.518257Z",
     "iopub.execute_input": "2022-02-03T23:56:45.518594Z",
     "iopub.status.idle": "2022-02-03T23:56:45.712493Z",
     "shell.execute_reply.started": "2022-02-03T23:56:45.518548Z",
     "shell.execute_reply": "2022-02-03T23:56:45.711722Z"
    },
    "trusted": true
   },
   "execution_count": null,
   "outputs": []
  },
  {
   "cell_type": "markdown",
   "source": [
    "9. Tips and Hints 🕵️‍\n",
    "* Lil Dicky's followers reacted the most — 42.4% of his followers liked his first tweet. Even if celebrities like Katy Perry and Ellen have a huuge Twitter following, their followers hardly reacted, e.g., only 0.0098% of Katy's followers liked her tweet.\n",
    "\n",
    "* While Leo got the most likes and retweets in terms of counts, his first tweet was only liked by 2.19% of his followers.\n",
    "\n",
    "* The large differences in reactions could be explained by the fact that this was Lil Dicky's music video. Leo still got more traction than Katy or Ellen because he played some major role in this initiative.\n",
    "\n",
    "Let's create a frequency distribution for the languages."
   ],
   "metadata": {}
  },
  {
   "cell_type": "code",
   "source": [
    "# Extracting language for each tweet and appending it to the list of languages\n",
    "tweets_languages = []\n",
    "for tweet in tweets:\n",
    "    tweets_languages.append(tweet['lang'])\n",
    "\n",
    "# Plotting the distribution of languages\n",
    "%matplotlib inline\n",
    "plt.hist(tweets_languages)"
   ],
   "metadata": {
    "execution": {
     "iopub.status.busy": "2022-02-03T23:56:45.714314Z",
     "iopub.execute_input": "2022-02-03T23:56:45.714688Z",
     "iopub.status.idle": "2022-02-03T23:56:45.998628Z",
     "shell.execute_reply.started": "2022-02-03T23:56:45.714643Z",
     "shell.execute_reply": "2022-02-03T23:56:45.99759Z"
    },
    "trusted": true
   },
   "execution_count": null,
   "outputs": []
  },
  {
   "cell_type": "markdown",
   "source": [
    "## Conclusion ♀️\n",
    "\n",
    "* Most of the tweets were in English.\n",
    "* Polish, Italian and Spanish were the next runner-ups.\n",
    "* There were a lot of tweets with a language alien to Twitter (lang = 'und').\n",
    "\n",
    "##### This can allow us to get an understanding of the \"category\" of people interested in this topic (clustering). We could also analyze the device type used by the Twitteratis, tweet['source'], to answer questions like, \"Does owning an Apple compared to Android influences people's propensity towards this trend?\""
   ],
   "metadata": {
    "pycharm": {
     "name": "#%% md\n"
    }
   }
  }
 ]
}