{
 "metadata": {
  "kernelspec": {
   "language": "python",
   "display_name": "Python 3",
   "name": "python3"
  },
  "language_info": {
   "name": "python",
   "version": "3.7.12",
   "mimetype": "text/x-python",
   "codemirror_mode": {
    "name": "ipython",
    "version": 3
   },
   "pygments_lexer": "ipython3",
   "nbconvert_exporter": "python",
   "file_extension": ".py"
  }
 },
 "nbformat_minor": 4,
 "nbformat": 4,
 "cells": [
  {
   "cell_type": "code",
   "execution_count": 5,
   "outputs": [],
   "source": [
    "import pandas as pd\n",
    "import matplotlib.pyplot as plt\n",
    "import seaborn as sns"
   ],
   "metadata": {
    "collapsed": false,
    "pycharm": {
     "name": "#%%\n"
    }
   }
  },
  {
   "cell_type": "markdown",
   "source": [
    "# Under normal nutritional and individuals who are taller also tend to weigh more conditions, body height and weight are significantly related. For example, individuals who are taller also tend to weigh more."
   ],
   "metadata": {}
  },
  {
   "cell_type": "markdown",
   "source": [
    "Just to remind everyone, In statistics, correlation refers to the degree of association between two variables and causation is a cause-and-effect relationship with one another. Let's investigate the correlation between height and weight in both gender. We do not need to convert between units of measurements because we are looking a correlation between. "
   ],
   "metadata": {}
  },
  {
   "cell_type": "code",
   "source": [
    "df = pd.read_csv('datasets/weight-height.csv')\n",
    "df.head()"
   ],
   "metadata": {
    "execution": {
     "iopub.status.busy": "2022-02-02T12:34:18.594625Z",
     "iopub.execute_input": "2022-02-02T12:34:18.595529Z",
     "iopub.status.idle": "2022-02-02T12:34:18.618983Z",
     "shell.execute_reply.started": "2022-02-02T12:34:18.595478Z",
     "shell.execute_reply": "2022-02-02T12:34:18.618298Z"
    },
    "trusted": true
   },
   "execution_count": 6,
   "outputs": [
    {
     "data": {
      "text/plain": "  Gender     Height      Weight\n0   Male  73.847017  241.893563\n1   Male  68.781904  162.310473\n2   Male  74.110105  212.740856\n3   Male  71.730978  220.042470\n4   Male  69.881796  206.349801",
      "text/html": "<div>\n<style scoped>\n    .dataframe tbody tr th:only-of-type {\n        vertical-align: middle;\n    }\n\n    .dataframe tbody tr th {\n        vertical-align: top;\n    }\n\n    .dataframe thead th {\n        text-align: right;\n    }\n</style>\n<table border=\"1\" class=\"dataframe\">\n  <thead>\n    <tr style=\"text-align: right;\">\n      <th></th>\n      <th>Gender</th>\n      <th>Height</th>\n      <th>Weight</th>\n    </tr>\n  </thead>\n  <tbody>\n    <tr>\n      <th>0</th>\n      <td>Male</td>\n      <td>73.847017</td>\n      <td>241.893563</td>\n    </tr>\n    <tr>\n      <th>1</th>\n      <td>Male</td>\n      <td>68.781904</td>\n      <td>162.310473</td>\n    </tr>\n    <tr>\n      <th>2</th>\n      <td>Male</td>\n      <td>74.110105</td>\n      <td>212.740856</td>\n    </tr>\n    <tr>\n      <th>3</th>\n      <td>Male</td>\n      <td>71.730978</td>\n      <td>220.042470</td>\n    </tr>\n    <tr>\n      <th>4</th>\n      <td>Male</td>\n      <td>69.881796</td>\n      <td>206.349801</td>\n    </tr>\n  </tbody>\n</table>\n</div>"
     },
     "execution_count": 6,
     "metadata": {},
     "output_type": "execute_result"
    }
   ]
  },
  {
   "cell_type": "code",
   "source": "df.columns",
   "metadata": {
    "execution": {
     "iopub.status.busy": "2022-02-02T12:34:18.620774Z",
     "iopub.execute_input": "2022-02-02T12:34:18.621264Z",
     "iopub.status.idle": "2022-02-02T12:34:18.628124Z",
     "shell.execute_reply.started": "2022-02-02T12:34:18.621221Z",
     "shell.execute_reply": "2022-02-02T12:34:18.627200Z"
    },
    "trusted": true
   },
   "execution_count": 7,
   "outputs": [
    {
     "data": {
      "text/plain": "Index(['Gender', 'Height', 'Weight'], dtype='object')"
     },
     "execution_count": 7,
     "metadata": {},
     "output_type": "execute_result"
    }
   ]
  },
  {
   "cell_type": "code",
   "source": "df.isna().any()",
   "metadata": {
    "execution": {
     "iopub.status.busy": "2022-02-02T12:35:38.570404Z",
     "iopub.execute_input": "2022-02-02T12:35:38.570910Z",
     "iopub.status.idle": "2022-02-02T12:35:38.581180Z",
     "shell.execute_reply.started": "2022-02-02T12:35:38.570858Z",
     "shell.execute_reply": "2022-02-02T12:35:38.580438Z"
    },
    "trusted": true
   },
   "execution_count": 8,
   "outputs": [
    {
     "data": {
      "text/plain": "Gender    False\nHeight    False\nWeight    False\ndtype: bool"
     },
     "execution_count": 8,
     "metadata": {},
     "output_type": "execute_result"
    }
   ]
  },
  {
   "cell_type": "code",
   "source": "df.info()",
   "metadata": {
    "execution": {
     "iopub.status.busy": "2022-02-02T13:26:50.282310Z",
     "iopub.execute_input": "2022-02-02T13:26:50.282649Z",
     "iopub.status.idle": "2022-02-02T13:26:50.297335Z",
     "shell.execute_reply.started": "2022-02-02T13:26:50.282617Z",
     "shell.execute_reply": "2022-02-02T13:26:50.296607Z"
    },
    "trusted": true
   },
   "execution_count": 9,
   "outputs": [
    {
     "name": "stdout",
     "output_type": "stream",
     "text": [
      "<class 'pandas.core.frame.DataFrame'>\n",
      "RangeIndex: 10000 entries, 0 to 9999\n",
      "Data columns (total 3 columns):\n",
      " #   Column  Non-Null Count  Dtype  \n",
      "---  ------  --------------  -----  \n",
      " 0   Gender  10000 non-null  object \n",
      " 1   Height  10000 non-null  float64\n",
      " 2   Weight  10000 non-null  float64\n",
      "dtypes: float64(2), object(1)\n",
      "memory usage: 234.5+ KB\n"
     ]
    }
   ]
  },
  {
   "cell_type": "code",
   "source": "df.describe()",
   "metadata": {
    "execution": {
     "iopub.status.busy": "2022-02-02T12:34:18.733476Z",
     "iopub.execute_input": "2022-02-02T12:34:18.733764Z",
     "iopub.status.idle": "2022-02-02T12:34:18.752075Z",
     "shell.execute_reply.started": "2022-02-02T12:34:18.733731Z",
     "shell.execute_reply": "2022-02-02T12:34:18.751181Z"
    },
    "trusted": true
   },
   "execution_count": 10,
   "outputs": [
    {
     "data": {
      "text/plain": "             Height        Weight\ncount  10000.000000  10000.000000\nmean      66.367560    161.440357\nstd        3.847528     32.108439\nmin       54.263133     64.700127\n25%       63.505620    135.818051\n50%       66.318070    161.212928\n75%       69.174262    187.169525\nmax       78.998742    269.989699",
      "text/html": "<div>\n<style scoped>\n    .dataframe tbody tr th:only-of-type {\n        vertical-align: middle;\n    }\n\n    .dataframe tbody tr th {\n        vertical-align: top;\n    }\n\n    .dataframe thead th {\n        text-align: right;\n    }\n</style>\n<table border=\"1\" class=\"dataframe\">\n  <thead>\n    <tr style=\"text-align: right;\">\n      <th></th>\n      <th>Height</th>\n      <th>Weight</th>\n    </tr>\n  </thead>\n  <tbody>\n    <tr>\n      <th>count</th>\n      <td>10000.000000</td>\n      <td>10000.000000</td>\n    </tr>\n    <tr>\n      <th>mean</th>\n      <td>66.367560</td>\n      <td>161.440357</td>\n    </tr>\n    <tr>\n      <th>std</th>\n      <td>3.847528</td>\n      <td>32.108439</td>\n    </tr>\n    <tr>\n      <th>min</th>\n      <td>54.263133</td>\n      <td>64.700127</td>\n    </tr>\n    <tr>\n      <th>25%</th>\n      <td>63.505620</td>\n      <td>135.818051</td>\n    </tr>\n    <tr>\n      <th>50%</th>\n      <td>66.318070</td>\n      <td>161.212928</td>\n    </tr>\n    <tr>\n      <th>75%</th>\n      <td>69.174262</td>\n      <td>187.169525</td>\n    </tr>\n    <tr>\n      <th>max</th>\n      <td>78.998742</td>\n      <td>269.989699</td>\n    </tr>\n  </tbody>\n</table>\n</div>"
     },
     "execution_count": 10,
     "metadata": {},
     "output_type": "execute_result"
    }
   ]
  },
  {
   "cell_type": "code",
   "source": "data_male = df[df['Gender'] == 'Male']\nx_m = data_male['Height']\ny_m = data_male['Weight']\n\nplt.scatter(x_m, y_m, marker='.', c='b', s=0.5)\nplt.title(\"Height vs Weight (Male)\")\nplt.xlabel(\"Height - (Inch)\")\nplt.ylabel(\"Weight (lbs)\")\nplt.show()",
   "metadata": {
    "execution": {
     "iopub.status.busy": "2022-02-02T13:25:27.699304Z",
     "iopub.execute_input": "2022-02-02T13:25:27.699988Z",
     "iopub.status.idle": "2022-02-02T13:25:28.111826Z",
     "shell.execute_reply.started": "2022-02-02T13:25:27.699939Z",
     "shell.execute_reply": "2022-02-02T13:25:28.111179Z"
    },
    "trusted": true
   },
   "execution_count": 11,
   "outputs": [
    {
     "data": {
      "text/plain": "<Figure size 432x288 with 1 Axes>",
      "image/png": "[encoded data removed]"
     },
     "metadata": {
      "needs_background": "light"
     },
     "output_type": "display_data"
    }
   ]
  },
  {
   "cell_type": "code",
   "source": "data_male.corr()",
   "metadata": {
    "execution": {
     "iopub.status.busy": "2022-02-02T12:34:19.146881Z",
     "iopub.execute_input": "2022-02-02T12:34:19.147133Z",
     "iopub.status.idle": "2022-02-02T12:34:19.156439Z",
     "shell.execute_reply.started": "2022-02-02T12:34:19.147100Z",
     "shell.execute_reply": "2022-02-02T12:34:19.155878Z"
    },
    "trusted": true
   },
   "execution_count": 12,
   "outputs": [
    {
     "data": {
      "text/plain": "          Height    Weight\nHeight  1.000000  0.862979\nWeight  0.862979  1.000000",
      "text/html": "<div>\n<style scoped>\n    .dataframe tbody tr th:only-of-type {\n        vertical-align: middle;\n    }\n\n    .dataframe tbody tr th {\n        vertical-align: top;\n    }\n\n    .dataframe thead th {\n        text-align: right;\n    }\n</style>\n<table border=\"1\" class=\"dataframe\">\n  <thead>\n    <tr style=\"text-align: right;\">\n      <th></th>\n      <th>Height</th>\n      <th>Weight</th>\n    </tr>\n  </thead>\n  <tbody>\n    <tr>\n      <th>Height</th>\n      <td>1.000000</td>\n      <td>0.862979</td>\n    </tr>\n    <tr>\n      <th>Weight</th>\n      <td>0.862979</td>\n      <td>1.000000</td>\n    </tr>\n  </tbody>\n</table>\n</div>"
     },
     "execution_count": 12,
     "metadata": {},
     "output_type": "execute_result"
    }
   ]
  },
  {
   "cell_type": "code",
   "source": "data_male.describe()",
   "metadata": {
    "execution": {
     "iopub.status.busy": "2022-02-02T12:34:19.157252Z",
     "iopub.execute_input": "2022-02-02T12:34:19.157999Z",
     "iopub.status.idle": "2022-02-02T12:34:19.180406Z",
     "shell.execute_reply.started": "2022-02-02T12:34:19.157966Z",
     "shell.execute_reply": "2022-02-02T12:34:19.179465Z"
    },
    "trusted": true
   },
   "execution_count": 13,
   "outputs": [
    {
     "data": {
      "text/plain": "            Height       Weight\ncount  5000.000000  5000.000000\nmean     69.026346   187.020621\nstd       2.863362    19.781155\nmin      58.406905   112.902939\n25%      67.174679   173.887767\n50%      69.027709   187.033546\n75%      70.988744   200.357802\nmax      78.998742   269.989699",
      "text/html": "<div>\n<style scoped>\n    .dataframe tbody tr th:only-of-type {\n        vertical-align: middle;\n    }\n\n    .dataframe tbody tr th {\n        vertical-align: top;\n    }\n\n    .dataframe thead th {\n        text-align: right;\n    }\n</style>\n<table border=\"1\" class=\"dataframe\">\n  <thead>\n    <tr style=\"text-align: right;\">\n      <th></th>\n      <th>Height</th>\n      <th>Weight</th>\n    </tr>\n  </thead>\n  <tbody>\n    <tr>\n      <th>count</th>\n      <td>5000.000000</td>\n      <td>5000.000000</td>\n    </tr>\n    <tr>\n      <th>mean</th>\n      <td>69.026346</td>\n      <td>187.020621</td>\n    </tr>\n    <tr>\n      <th>std</th>\n      <td>2.863362</td>\n      <td>19.781155</td>\n    </tr>\n    <tr>\n      <th>min</th>\n      <td>58.406905</td>\n      <td>112.902939</td>\n    </tr>\n    <tr>\n      <th>25%</th>\n      <td>67.174679</td>\n      <td>173.887767</td>\n    </tr>\n    <tr>\n      <th>50%</th>\n      <td>69.027709</td>\n      <td>187.033546</td>\n    </tr>\n    <tr>\n      <th>75%</th>\n      <td>70.988744</td>\n      <td>200.357802</td>\n    </tr>\n    <tr>\n      <th>max</th>\n      <td>78.998742</td>\n      <td>269.989699</td>\n    </tr>\n  </tbody>\n</table>\n</div>"
     },
     "execution_count": 13,
     "metadata": {},
     "output_type": "execute_result"
    }
   ]
  },
  {
   "cell_type": "code",
   "source": "data_female = df[df['Gender'] == 'Female']\nx_f = data_female['Height']\ny_f = data_female['Weight']\n\nplt.scatter(x_f, y_f, marker='.', c='r', s=0.5)\nplt.title(\"Height vs Weight (Female)\")\nplt.xlabel(\"Height - (Inch)\")\nplt.ylabel(\"Weight (lbs)\")\nplt.show()",
   "metadata": {
    "execution": {
     "iopub.status.busy": "2022-02-02T13:26:13.279200Z",
     "iopub.execute_input": "2022-02-02T13:26:13.279911Z",
     "iopub.status.idle": "2022-02-02T13:26:13.450703Z",
     "shell.execute_reply.started": "2022-02-02T13:26:13.279856Z",
     "shell.execute_reply": "2022-02-02T13:26:13.449822Z"
    },
    "trusted": true
   },
   "execution_count": 14,
   "outputs": [
    {
     "data": {
      "text/plain": "<Figure size 432x288 with 1 Axes>",
      "image/png": "[encoded data removed]"
     },
     "metadata": {
      "needs_background": "light"
     },
     "output_type": "display_data"
    }
   ]
  },
  {
   "cell_type": "code",
   "source": "data_female.corr()",
   "metadata": {
    "execution": {
     "iopub.status.busy": "2022-02-02T12:34:19.572683Z",
     "iopub.execute_input": "2022-02-02T12:34:19.573587Z",
     "iopub.status.idle": "2022-02-02T12:34:19.584753Z",
     "shell.execute_reply.started": "2022-02-02T12:34:19.573541Z",
     "shell.execute_reply": "2022-02-02T12:34:19.583775Z"
    },
    "trusted": true
   },
   "execution_count": 15,
   "outputs": [
    {
     "data": {
      "text/plain": "          Height    Weight\nHeight  1.000000  0.849609\nWeight  0.849609  1.000000",
      "text/html": "<div>\n<style scoped>\n    .dataframe tbody tr th:only-of-type {\n        vertical-align: middle;\n    }\n\n    .dataframe tbody tr th {\n        vertical-align: top;\n    }\n\n    .dataframe thead th {\n        text-align: right;\n    }\n</style>\n<table border=\"1\" class=\"dataframe\">\n  <thead>\n    <tr style=\"text-align: right;\">\n      <th></th>\n      <th>Height</th>\n      <th>Weight</th>\n    </tr>\n  </thead>\n  <tbody>\n    <tr>\n      <th>Height</th>\n      <td>1.000000</td>\n      <td>0.849609</td>\n    </tr>\n    <tr>\n      <th>Weight</th>\n      <td>0.849609</td>\n      <td>1.000000</td>\n    </tr>\n  </tbody>\n</table>\n</div>"
     },
     "execution_count": 15,
     "metadata": {},
     "output_type": "execute_result"
    }
   ]
  },
  {
   "cell_type": "code",
   "source": "data_female.describe()",
   "metadata": {
    "execution": {
     "iopub.status.busy": "2022-02-02T12:34:19.587211Z",
     "iopub.execute_input": "2022-02-02T12:34:19.587564Z",
     "iopub.status.idle": "2022-02-02T12:34:19.607234Z",
     "shell.execute_reply.started": "2022-02-02T12:34:19.587493Z",
     "shell.execute_reply": "2022-02-02T12:34:19.606301Z"
    },
    "trusted": true
   },
   "execution_count": 16,
   "outputs": [
    {
     "data": {
      "text/plain": "            Height       Weight\ncount  5000.000000  5000.000000\nmean     63.708774   135.860093\nstd       2.696284    19.022468\nmin      54.263133    64.700127\n25%      61.894441   122.934096\n50%      63.730924   136.117583\n75%      65.563565   148.810926\nmax      73.389586   202.237214",
      "text/html": "<div>\n<style scoped>\n    .dataframe tbody tr th:only-of-type {\n        vertical-align: middle;\n    }\n\n    .dataframe tbody tr th {\n        vertical-align: top;\n    }\n\n    .dataframe thead th {\n        text-align: right;\n    }\n</style>\n<table border=\"1\" class=\"dataframe\">\n  <thead>\n    <tr style=\"text-align: right;\">\n      <th></th>\n      <th>Height</th>\n      <th>Weight</th>\n    </tr>\n  </thead>\n  <tbody>\n    <tr>\n      <th>count</th>\n      <td>5000.000000</td>\n      <td>5000.000000</td>\n    </tr>\n    <tr>\n      <th>mean</th>\n      <td>63.708774</td>\n      <td>135.860093</td>\n    </tr>\n    <tr>\n      <th>std</th>\n      <td>2.696284</td>\n      <td>19.022468</td>\n    </tr>\n    <tr>\n      <th>min</th>\n      <td>54.263133</td>\n      <td>64.700127</td>\n    </tr>\n    <tr>\n      <th>25%</th>\n      <td>61.894441</td>\n      <td>122.934096</td>\n    </tr>\n    <tr>\n      <th>50%</th>\n      <td>63.730924</td>\n      <td>136.117583</td>\n    </tr>\n    <tr>\n      <th>75%</th>\n      <td>65.563565</td>\n      <td>148.810926</td>\n    </tr>\n    <tr>\n      <th>max</th>\n      <td>73.389586</td>\n      <td>202.237214</td>\n    </tr>\n  </tbody>\n</table>\n</div>"
     },
     "execution_count": 16,
     "metadata": {},
     "output_type": "execute_result"
    }
   ]
  },
  {
   "cell_type": "code",
   "source": "lower_bound = 61.894441 -(1.5 * (65.563565-61.894441))\nupper_bound = 65.563565 +(1.5 * (65.563565-61.894441)) \nprint(lower_bound, upper_bound)",
   "metadata": {
    "execution": {
     "iopub.status.busy": "2022-02-02T13:40:30.504891Z",
     "iopub.execute_input": "2022-02-02T13:40:30.505311Z",
     "iopub.status.idle": "2022-02-02T13:40:30.509891Z",
     "shell.execute_reply.started": "2022-02-02T13:40:30.505268Z",
     "shell.execute_reply": "2022-02-02T13:40:30.509321Z"
    },
    "trusted": true
   },
   "execution_count": 17,
   "outputs": [
    {
     "name": "stdout",
     "output_type": "stream",
     "text": [
      "56.390755000000006 71.067251\n"
     ]
    }
   ]
  },
  {
   "cell_type": "code",
   "source": "ax = sns.boxplot(data=data_female, orient=\"h\", palette=\"cool_r\"",
   "metadata": {
    "execution": {
     "iopub.status.busy": "2022-02-02T13:43:56.278186Z",
     "iopub.execute_input": "2022-02-02T13:43:56.279150Z"
    },
    "trusted": true
   },
   "execution_count": 18,
   "outputs": [
    {
     "ename": "SyntaxError",
     "evalue": "'(' was never closed (2680654851.py, line 1)",
     "output_type": "error",
     "traceback": [
      "\u001B[0;36m  Input \u001B[0;32mIn [18]\u001B[0;36m\u001B[0m\n\u001B[0;31m    ax = sns.boxplot(data=data_female, orient=\"h\", palette=\"cool_r\"\u001B[0m\n\u001B[0m                    ^\u001B[0m\n\u001B[0;31mSyntaxError\u001B[0m\u001B[0;31m:\u001B[0m '(' was never closed\n"
     ]
    }
   ]
  },
  {
   "cell_type": "code",
   "source": "ax = sns.heatmap(data_female.corr(), annot=True)",
   "metadata": {
    "execution": {
     "iopub.status.busy": "2022-02-02T12:34:19.608493Z",
     "iopub.execute_input": "2022-02-02T12:34:19.608812Z",
     "iopub.status.idle": "2022-02-02T12:34:19.846742Z",
     "shell.execute_reply.started": "2022-02-02T12:34:19.608770Z",
     "shell.execute_reply": "2022-02-02T12:34:19.846108Z"
    },
    "trusted": true
   },
   "execution_count": null,
   "outputs": []
  },
  {
   "cell_type": "code",
   "source": "ax = sns.heatmap(data_male.corr(), annot=True)",
   "metadata": {
    "execution": {
     "iopub.status.busy": "2022-02-02T12:34:19.847772Z",
     "iopub.execute_input": "2022-02-02T12:34:19.848182Z",
     "iopub.status.idle": "2022-02-02T12:34:20.080408Z",
     "shell.execute_reply.started": "2022-02-02T12:34:19.848146Z",
     "shell.execute_reply": "2022-02-02T12:34:20.079445Z"
    },
    "trusted": true
   },
   "execution_count": null,
   "outputs": []
  },
  {
   "cell_type": "code",
   "source": "plt.scatter(x_m, y_m, marker='.', c='b', s=0.5)\nplt.scatter(x_f, y_f, marker='.', c='r', s=0.5)\nplt.legend([\"MALE\", \"FEMALE\"], loc =\"lower right\")\nplt.show()",
   "metadata": {
    "execution": {
     "iopub.status.busy": "2022-02-02T13:31:58.999286Z",
     "iopub.execute_input": "2022-02-02T13:31:58.999650Z",
     "iopub.status.idle": "2022-02-02T13:31:59.213186Z",
     "shell.execute_reply.started": "2022-02-02T13:31:58.999616Z",
     "shell.execute_reply": "2022-02-02T13:31:59.212428Z"
    },
    "trusted": true
   },
   "execution_count": null,
   "outputs": []
  },
  {
   "cell_type": "markdown",
   "source": "In the dataset, men are 19kg heavier than women and 15cm taller.",
   "metadata": {}
  },
  {
   "cell_type": "markdown",
   "source": "# Conclusion\n\nAs a person grows in height, it is normal that its weight increases as well. But that doesn’t mean that increment of height causes the increment in weight. Taller people tend to weight more. Correlation only measures linear fit and the relationship is not linear. Even if a relationship is genuine, a strong correlation doesn’t necessarily imply that a change in one variable will produce a large change in the other one.\n",
   "metadata": {}
  }
 ]
}